{
  "cells": [
    {
      "metadata": {
        "_uuid": "8f2839f25d086af736a60e9eeb907d3b93b6e0e5",
        "_cell_guid": "b1076dfc-b9ad-4769-8c92-a6c4dae69d19",
        "trusted": true,
        "collapsed": true
      },
      "cell_type": "code",
      "source": "# This Python 3 environment comes with many helpful analytics libraries installed\n# It is defined by the kaggle/python docker image: https://github.com/kaggle/docker-python\n# For example, here's several helpful packages to load in \n\nimport numpy as np # linear algebra\nimport pandas as pd # data processing, CSV file I/O (e.g. pd.read_csv)\n\n# Input data files are available in the \"../input/\" directory.\n# For example, running this (by clicking run or pressing Shift+Enter) will list the files in the input directory\n\nimport os\nprint(os.listdir(\"../input\"))\n\n# Any results you write to the current directory are saved as output.",
      "execution_count": null,
      "outputs": []
    },
    {
      "metadata": {
        "_cell_guid": "79c7e3d0-c299-4dcb-8224-4455121ee9b0",
        "_uuid": "d629ff2d2480ee46fbb7e2d37f6b5fab8052498a",
        "trusted": true,
        "collapsed": true
      },
      "cell_type": "code",
      "source": "train = pd.read_csv(\"../input/train.csv\")\ntest = pd.read_csv(\"../input/test.csv\")\ntrain.head(10)\ntrain.shape, test.shape",
      "execution_count": null,
      "outputs": []
    },
    {
      "metadata": {
        "trusted": true,
        "_uuid": "84ef0fd64440bfad2f9f0fc5843b7119b26d5b12",
        "collapsed": true
      },
      "cell_type": "code",
      "source": "train.isnull().sum()\n# print(train.describe())\n# print(train.corr())\ntrain.describe(include=['O'])",
      "execution_count": null,
      "outputs": []
    },
    {
      "metadata": {
        "trusted": true,
        "_uuid": "265e620f80487633d0d64114b995cca607b591d4",
        "collapsed": true
      },
      "cell_type": "code",
      "source": "# missing vlaue visualization\nimport missingno\nmissingno.matrix(train)",
      "execution_count": null,
      "outputs": []
    },
    {
      "metadata": {
        "trusted": true,
        "_uuid": "1410e04c628a6f3e4c19d62ca199a66ed017598e",
        "collapsed": true
      },
      "cell_type": "code",
      "source": "test.isnull().any()\ntest.isnull().sum()/len(test)",
      "execution_count": null,
      "outputs": []
    },
    {
      "metadata": {
        "trusted": true,
        "_uuid": "cd463237584e8f261cb03cf7adc54d2db77c5bc8",
        "collapsed": true
      },
      "cell_type": "code",
      "source": "train = pd.read_csv(\"../input/train.csv\")\ntest = pd.read_csv('../input/test.csv')\n# percent missing values in all column\ntrain.isnull().sum()/len(train)*100\n#delete the column 'Cabin' since there are almost 77% missing values\n# using pop: train.pop('Cabin') or using drop\ntrain = train.drop(['Cabin'],1)\ntest = test.drop(['Cabin'],1)\n#replacing missing embarked with most repeating value\ntrain['Embarked'].fillna('S')\n\n\ntrain.columns\n# train.info()\ntrain.head()\n# since we wont be using PassengerId, Name and Ticket for analysis we can drop those columns as well\ntrain = train.drop(['PassengerId', 'Name', 'Ticket'],1)\ntest = test.drop(['PassengerId', 'Name', 'Ticket'],1)\ntrain.head()\ntrain.describe()\ntrain.shape, test.shape",
      "execution_count": null,
      "outputs": []
    },
    {
      "metadata": {
        "trusted": true,
        "_uuid": "ea420d3d5eb5748461db0dd34b74bc50965ca22e",
        "collapsed": true
      },
      "cell_type": "code",
      "source": "train['Embarked']=train['Embarked'].fillna('S')\ntrain['Embarked'].isnull().any()",
      "execution_count": null,
      "outputs": []
    },
    {
      "metadata": {
        "trusted": true,
        "_uuid": "1c06fa91bb20696bfcd0f8ee37423e64bd1a637c",
        "collapsed": true
      },
      "cell_type": "code",
      "source": "perc_embarked = train[['Embarked','Survived']].groupby(['Embarked']).mean()\nperc_sex = train[['Sex','Survived']].groupby(['Sex']).mean()\nperc_embarked, perc_sex",
      "execution_count": null,
      "outputs": []
    },
    {
      "metadata": {
        "_uuid": "9166e06b4f604671a796b0c9bcf74f1978bf719c"
      },
      "cell_type": "markdown",
      "source": "# Data Visualization (In process)"
    },
    {
      "metadata": {
        "trusted": true,
        "_uuid": "9c0caf7e7e54879832dcf3ce3dcadeb39fc9e8a3",
        "collapsed": true
      },
      "cell_type": "code",
      "source": "# import seaborn as sns\n# sns.factorplot('Embarked','Survived', data=train,size=4,aspect=3)\n# sns.countplot(x='Survived', hue='Sex', data= train)",
      "execution_count": null,
      "outputs": []
    },
    {
      "metadata": {
        "trusted": true,
        "_uuid": "19b9b998aae74acc537a64e47dcda6c4915eb6b9",
        "collapsed": true
      },
      "cell_type": "code",
      "source": "\nfig, (axis3,axis4) = plt.subplots(1,2,figsize=(15,5))\n\n# sns.factorplot('Embarked',data=titanic_df,kind='count',order=['S','C','Q'],ax=axis1)\n# sns.factorplot('Survived',hue=\"Embarked\",data=titanic_df,kind='count',order=[1,0],ax=axis2)\nsns.countplot(x='Embarked', data=train, ax=axis1)\nsns.countplot(x='Survived', hue=\"Embarked\", data=train, order=[1,0], ax=axis2)\n\n# group by embarked, and get the mean for survived passengers for each value in Embarked\nembark_perc = train[[\"Embarked\", \"Survived\"]].groupby(['Embarked'],as_index=False).mean()\nsex_perc = train[['Sex','Survived']].groupby(['Sex']).mean()\nsns.barplot(x='Embarked', y='Survived', data=embark_perc,order=['S','C','Q'],ax=axis3)\n\n\n#-----------------FIX THIS ERROR ----------------\n# sns.barplot(x='Sex', y='Survived', data=sex_perc, order=[0,1], ax=axis4)\n",
      "execution_count": null,
      "outputs": []
    },
    {
      "metadata": {
        "_uuid": "433e24b07dde557f7a1cbfd16de8c9ee9100ae1f"
      },
      "cell_type": "markdown",
      "source": "## How many percent females survived & percent male suvived????"
    },
    {
      "metadata": {
        "trusted": true,
        "_uuid": "57da524867521a7aecb21a47afad21422fa065e1",
        "collapsed": true
      },
      "cell_type": "code",
      "source": "# x=train.columns\n# y= train.columns.values\n# type(x),type(y)",
      "execution_count": null,
      "outputs": []
    },
    {
      "metadata": {
        "_uuid": "eacf99432afcfbb382f48221166e90616fbc27da"
      },
      "cell_type": "markdown",
      "source": "# Building Predictive model\n"
    },
    {
      "metadata": {
        "trusted": true,
        "_uuid": "f156fab430851632bb3d182467ff25dbbd432b68",
        "collapsed": true
      },
      "cell_type": "code",
      "source": "print(train.describe(include=['O']))\nprint(train.columns)\ntrain[['SibSp','Parch']].head()\n\n#combining 2 columns to make one single column\ntrain['Family'] =  train[\"Parch\"] + train[\"SibSp\"]\ntrain['Family'].loc[train['Family'] > 0] = 1\ntrain['Family'].loc[train['Family'] == 0] = 0\n\ntest['Family'] =  test[\"Parch\"] + test[\"SibSp\"]\ntest['Family'].loc[test['Family'] > 0] = 1\ntest['Family'].loc[test['Family'] == 0] = 0\n\n\n\ntrain=train.drop(['Parch','SibSp'],1)\ntest = test.drop(['Parch','SibSp'],1)\ntrain.columns",
      "execution_count": null,
      "outputs": []
    },
    {
      "metadata": {
        "trusted": true,
        "_uuid": "5b384e50741c01e66a5c07c4544361d2d0cc9ab6",
        "collapsed": true
      },
      "cell_type": "code",
      "source": "test.dtypes",
      "execution_count": null,
      "outputs": []
    },
    {
      "metadata": {
        "trusted": true,
        "_uuid": "af37033bdd8f82f630ccde45463b668dd5b3ebb7",
        "collapsed": true
      },
      "cell_type": "code",
      "source": "train['C'] = (train['Embarked']=='C') *1\ntrain['Q'] = (train['Embarked']=='Q') *1\ntrain= train.drop(['Embarked'],1)\ntest['C'] = (test['Embarked']=='C') *1\ntest['Q'] = (test['Embarked']=='Q') *1\ntest= test.drop(['Embarked'],1)\ntrain['male'] = (train['Sex']=='male') *1\ntest['male'] = (test['Sex']=='male') *1\ntrain=train.drop(['Sex'],1)\ntest= test.drop(['Sex'],1)\nprint(test.head(),train.head())",
      "execution_count": null,
      "outputs": []
    },
    {
      "metadata": {
        "trusted": true,
        "_uuid": "349c697703a02d067f9c8536ba31f73e71fec85c",
        "collapsed": true
      },
      "cell_type": "code",
      "source": "# test.dtypes, train.dtypes",
      "execution_count": null,
      "outputs": []
    },
    {
      "metadata": {
        "trusted": true,
        "_uuid": "edf0ff35bc3396ec14262bd8149cc0be8c42c48a",
        "collapsed": true
      },
      "cell_type": "code",
      "source": "#handling missing values for age\nmean_age = train['Age'].mean()\nmean_age\ntrain['Age'] =train['Age'].fillna(mean_age)\ntrain.isnull().any()\n\nmean_age1 = test['Age'].mean()\nmean_age1\ntest['Age'] =test['Age'].fillna(mean_age1)\ntest['Fare']= test['Fare'].fillna( test['Fare'].mean())\ntrain.isnull().sum(), test.isnull().sum()",
      "execution_count": null,
      "outputs": []
    },
    {
      "metadata": {
        "_uuid": "41111254ad701ca58f31ca5fa143ac22148e4b9d"
      },
      "cell_type": "markdown",
      "source": "## Logistic Regression"
    },
    {
      "metadata": {
        "trusted": true,
        "_uuid": "16f577cfeed686356c43bb269c7248ed94c58a3a",
        "collapsed": true
      },
      "cell_type": "code",
      "source": "X_train = train.drop(\"Survived\",axis=1)\nY_train = train[\"Survived\"]\n\nX_train.dtypes",
      "execution_count": null,
      "outputs": []
    },
    {
      "metadata": {
        "trusted": true,
        "_uuid": "38da0c92e045c642c4de3f564b5e1283b4a3c260",
        "collapsed": true
      },
      "cell_type": "code",
      "source": "from sklearn.linear_model import LogisticRegression\nlogreg= LogisticRegression()\nlogreg.fit(X_train, Y_train)",
      "execution_count": null,
      "outputs": []
    },
    {
      "metadata": {
        "trusted": true,
        "_uuid": "7fad6a74c41c10da7e8145e6fbfdf06870261187",
        "collapsed": true
      },
      "cell_type": "code",
      "source": "y_pred = logreg.predict(test)\nlogreg.score(X_train, Y_train)",
      "execution_count": null,
      "outputs": []
    }
  ],
  "metadata": {
    "kernelspec": {
      "display_name": "Python 3",
      "language": "python",
      "name": "python3"
    },
    "language_info": {
      "name": "python",
      "version": "3.6.5",
      "mimetype": "text/x-python",
      "codemirror_mode": {
        "name": "ipython",
        "version": 3
      },
      "pygments_lexer": "ipython3",
      "nbconvert_exporter": "python",
      "file_extension": ".py"
    }
  },
  "nbformat": 4,
  "nbformat_minor": 1
}